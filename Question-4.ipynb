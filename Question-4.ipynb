{
 "cells": [
  {
   "cell_type": "code",
   "execution_count": 1,
   "metadata": {},
   "outputs": [],
   "source": [
    "from scipy import stats\n",
    "def perform_hypothesis_test(a,b):\n",
    "    t_statistic,p_value=stats.ttest_ind(a,b)\n",
    "    return p_value"
   ]
  },
  {
   "cell_type": "code",
   "execution_count": 2,
   "metadata": {},
   "outputs": [
    {
     "name": "stdout",
     "output_type": "stream",
     "text": [
      "Enter list of numbers seperated by spaces1 2 3 4 5 6 7 8 9 10\n",
      "Enter list of numbers seperated by spaces11 12 13 14 15 16 17 18 19 20 \n",
      "P-value: 7.503138172108905e-07\n"
     ]
    }
   ],
   "source": [
    "a=[int(i) for i in input(\"Enter list of numbers seperated by spaces\").split()]\n",
    "b=[int(i) for i in input(\"Enter list of numbers seperated by spaces\").split()]\n",
    "p_value=perform_hypothesis_test(a,b)\n",
    "print(\"P-value:\",p_value)"
   ]
  },
  {
   "cell_type": "code",
   "execution_count": null,
   "metadata": {},
   "outputs": [],
   "source": []
  }
 ],
 "metadata": {
  "kernelspec": {
   "display_name": "Python 3",
   "language": "python",
   "name": "python3"
  },
  "language_info": {
   "codemirror_mode": {
    "name": "ipython",
    "version": 3
   },
   "file_extension": ".py",
   "mimetype": "text/x-python",
   "name": "python",
   "nbconvert_exporter": "python",
   "pygments_lexer": "ipython3",
   "version": "3.8.3"
  }
 },
 "nbformat": 4,
 "nbformat_minor": 4
}
