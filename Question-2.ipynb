{
 "cells": [
  {
   "cell_type": "code",
   "execution_count": 15,
   "metadata": {},
   "outputs": [],
   "source": [
    "import time\n",
    "\n",
    "def timer(func):\n",
    "    def my_function(*args, **kwargs):\n",
    "        start_time=time.time()\n",
    "        result=func(*args, **kwargs)\n",
    "        end_time=time.time()\n",
    "        print(\"Execution time:\",end_time-start_time,\"seconds\")\n",
    "        return result\n",
    "    return my_function"
   ]
  },
  {
   "cell_type": "code",
   "execution_count": 19,
   "metadata": {},
   "outputs": [
    {
     "name": "stdout",
     "output_type": "stream",
     "text": [
      "Enter a list of numbers separated by spaces: 1 2 3 4 5 6 7 8 9 10 \n",
      "Execution time: 10.200907707214355 seconds\n",
      "[2, 4, 6, 8, 10]\n"
     ]
    }
   ],
   "source": [
    "@timer\n",
    "def Even_or_odd(n):\n",
    "    input_list = [int(x) for x in input(\"Enter a list of numbers separated by spaces: \").split()]\n",
    "    output_list = [num for num in input_list if num % 2 == 0]\n",
    "    return output_list\n",
    "print(Even_or_odd(122))"
   ]
  },
  {
   "cell_type": "code",
   "execution_count": null,
   "metadata": {},
   "outputs": [],
   "source": []
  }
 ],
 "metadata": {
  "kernelspec": {
   "display_name": "Python 3",
   "language": "python",
   "name": "python3"
  },
  "language_info": {
   "codemirror_mode": {
    "name": "ipython",
    "version": 3
   },
   "file_extension": ".py",
   "mimetype": "text/x-python",
   "name": "python",
   "nbconvert_exporter": "python",
   "pygments_lexer": "ipython3",
   "version": "3.8.3"
  }
 },
 "nbformat": 4,
 "nbformat_minor": 4
}
